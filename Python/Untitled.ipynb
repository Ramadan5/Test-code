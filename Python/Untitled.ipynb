{
 "cells": [
  {
   "cell_type": "code",
   "execution_count": null,
   "id": "4ff7b0bc",
   "metadata": {},
   "outputs": [],
   "source": [
    "x = [1, 2, 3, 4,]\n",
    "x [3]"
   ]
  },
  {
   "cell_type": "code",
   "execution_count": null,
   "id": "7a0f32c5",
   "metadata": {
    "scrolled": true
   },
   "outputs": [],
   "source": [
    "print(y)"
   ]
  },
  {
   "cell_type": "code",
   "execution_count": null,
   "id": "462d854d",
   "metadata": {},
   "outputs": [],
   "source": [
    "y = 5"
   ]
  },
  {
   "cell_type": "code",
   "execution_count": null,
   "id": "04e3e45f",
   "metadata": {},
   "outputs": [],
   "source": [
    "x"
   ]
  },
  {
   "cell_type": "code",
   "execution_count": null,
   "id": "60c7c8f4",
   "metadata": {},
   "outputs": [],
   "source": [
    "y"
   ]
  },
  {
   "cell_type": "markdown",
   "id": "f4623f60",
   "metadata": {},
   "source": [
    "# Test"
   ]
  },
  {
   "cell_type": "code",
   "execution_count": null,
   "id": "8a55beb9",
   "metadata": {},
   "outputs": [],
   "source": [
    "x, y = 1, 2"
   ]
  },
  {
   "cell_type": "code",
   "execution_count": null,
   "id": "9569a298",
   "metadata": {
    "scrolled": true
   },
   "outputs": [],
   "source": [
    "x, y"
   ]
  },
  {
   "cell_type": "code",
   "execution_count": null,
   "id": "299c9962",
   "metadata": {},
   "outputs": [],
   "source": [
    "z = 5.34"
   ]
  },
  {
   "cell_type": "code",
   "execution_count": null,
   "id": "471d8e80",
   "metadata": {},
   "outputs": [],
   "source": [
    "type (z)"
   ]
  },
  {
   "cell_type": "code",
   "execution_count": null,
   "id": "c5b9e765",
   "metadata": {},
   "outputs": [],
   "source": [
    "int (z)"
   ]
  },
  {
   "cell_type": "code",
   "execution_count": null,
   "id": "b860ebec",
   "metadata": {},
   "outputs": [],
   "source": [
    "type (z)"
   ]
  },
  {
   "cell_type": "code",
   "execution_count": null,
   "id": "f5d4237f",
   "metadata": {},
   "outputs": [],
   "source": [
    "\"Hi\""
   ]
  },
  {
   "cell_type": "code",
   "execution_count": null,
   "id": "e345e64a",
   "metadata": {},
   "outputs": [],
   "source": [
    "print (\"Hi\")"
   ]
  },
  {
   "cell_type": "code",
   "execution_count": null,
   "id": "4dbb6e3b",
   "metadata": {},
   "outputs": [],
   "source": [
    "y = 10\n",
    "print (y, \"Dollars\")"
   ]
  },
  {
   "cell_type": "code",
   "execution_count": null,
   "id": "0822ea54",
   "metadata": {
    "scrolled": true
   },
   "outputs": [],
   "source": [
    "print (str(y) + ' Dollars')"
   ]
  },
  {
   "cell_type": "code",
   "execution_count": null,
   "id": "4007d751",
   "metadata": {},
   "outputs": [],
   "source": [
    "15/3"
   ]
  },
  {
   "cell_type": "code",
   "execution_count": null,
   "id": "a94a4174",
   "metadata": {},
   "outputs": [],
   "source": [
    "16/3"
   ]
  },
  {
   "cell_type": "code",
   "execution_count": null,
   "id": "f772ff62",
   "metadata": {},
   "outputs": [],
   "source": [
    "z = 7"
   ]
  },
  {
   "cell_type": "code",
   "execution_count": null,
   "id": "f68f8db0",
   "metadata": {
    "scrolled": true
   },
   "outputs": [],
   "source": [
    "z == 7"
   ]
  },
  {
   "cell_type": "code",
   "execution_count": null,
   "id": "7fec01bc",
   "metadata": {},
   "outputs": [],
   "source": [
    "'potat\\\n",
    "o'"
   ]
  },
  {
   "cell_type": "code",
   "execution_count": null,
   "id": "5170ef06",
   "metadata": {},
   "outputs": [],
   "source": [
    "\"Potato\"[4]"
   ]
  },
  {
   "cell_type": "code",
   "execution_count": null,
   "id": "62f5bf45",
   "metadata": {
    "scrolled": true
   },
   "outputs": [],
   "source": [
    "1 == 2 or 3 == 2 + 1"
   ]
  },
  {
   "cell_type": "code",
   "execution_count": null,
   "id": "806fb062",
   "metadata": {},
   "outputs": [],
   "source": [
    "1 == 2 and 3 == 2 + 1"
   ]
  },
  {
   "cell_type": "code",
   "execution_count": null,
   "id": "fa5e6e98",
   "metadata": {},
   "outputs": [],
   "source": [
    "not 3 == 2 + 1"
   ]
  },
  {
   "cell_type": "code",
   "execution_count": 16,
   "id": "5eafbd0f",
   "metadata": {},
   "outputs": [
    {
     "name": "stdout",
     "output_type": "stream",
     "text": [
      "What's?30\n",
      "30\n",
      "30 hi you\n",
      "40\n"
     ]
    }
   ],
   "source": [
    "value = input (\"What's?\")\n",
    "print (value)\n",
    "print (value + ' hi you')\n",
    "# i = int (value)\n",
    "print (int (value) + 10)"
   ]
  },
  {
   "cell_type": "code",
   "execution_count": 19,
   "id": "eacd61bd",
   "metadata": {},
   "outputs": [
    {
     "name": "stdout",
     "output_type": "stream",
     "text": [
      "r\n"
     ]
    }
   ],
   "source": [
    "x = 'string'\n",
    "print (x[2])"
   ]
  }
 ],
 "metadata": {
  "kernelspec": {
   "display_name": "Python 3 (ipykernel)",
   "language": "python",
   "name": "python3"
  },
  "language_info": {
   "codemirror_mode": {
    "name": "ipython",
    "version": 3
   },
   "file_extension": ".py",
   "mimetype": "text/x-python",
   "name": "python",
   "nbconvert_exporter": "python",
   "pygments_lexer": "ipython3",
   "version": "3.10.6"
  }
 },
 "nbformat": 4,
 "nbformat_minor": 5
}
